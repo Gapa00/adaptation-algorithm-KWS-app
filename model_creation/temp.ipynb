{
 "cells": [
  {
   "cell_type": "code",
   "execution_count": 1,
   "metadata": {},
   "outputs": [
    {
     "name": "stdout",
     "output_type": "stream",
     "text": [
      "Download completed!\n"
     ]
    }
   ],
   "source": [
    "import requests\n",
    "\n",
    "url = \"http://download.tensorflow.org/data/speech_commands_v0.02.tar.gz\"\n",
    "response = requests.get(url, stream=True)\n",
    "\n",
    "with open(\"speech_commands_v0.02.tar.gz\", \"wb\") as file:\n",
    "    for chunk in response.iter_content(chunk_size=8192):\n",
    "        file.write(chunk)\n",
    "\n",
    "print(\"Download completed!\")"
   ]
  },
  {
   "cell_type": "code",
   "execution_count": 2,
   "metadata": {},
   "outputs": [
    {
     "name": "stdout",
     "output_type": "stream",
     "text": [
      "Extraction completed!\n"
     ]
    }
   ],
   "source": [
    "import tarfile\n",
    "\n",
    "file_path = \"speech_commands_v0.02.tar.gz\"\n",
    "extracted_path = \"speech_commands\"\n",
    "\n",
    "with tarfile.open(file_path, \"r:gz\") as tar:\n",
    "    tar.extractall(path=extracted_path)\n",
    "\n",
    "print(\"Extraction completed!\")\n"
   ]
  }
 ],
 "metadata": {
  "kernelspec": {
   "display_name": "diploma",
   "language": "python",
   "name": "python3"
  },
  "language_info": {
   "codemirror_mode": {
    "name": "ipython",
    "version": 3
   },
   "file_extension": ".py",
   "mimetype": "text/x-python",
   "name": "python",
   "nbconvert_exporter": "python",
   "pygments_lexer": "ipython3",
   "version": "3.8.19"
  }
 },
 "nbformat": 4,
 "nbformat_minor": 2
}
