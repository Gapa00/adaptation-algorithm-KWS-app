{
 "cells": [
  {
   "cell_type": "code",
   "execution_count": 1,
   "metadata": {},
   "outputs": [],
   "source": [
    "import tensorflow as tf\n",
    "import numpy as np\n",
    "import os\n",
    "from sklearn.metrics import roc_auc_score, recall_score\n",
    "from tqdm import tqdm"
   ]
  },
  {
   "cell_type": "code",
   "execution_count": 18,
   "metadata": {},
   "outputs": [],
   "source": [
    "\n",
    "model_path = 'models/final/Large_model.keras'\n",
    "converted_model_path = 'models/final/Large_model.tflite'"
   ]
  },
  {
   "cell_type": "code",
   "execution_count": 44,
   "metadata": {},
   "outputs": [
    {
     "name": "stderr",
     "output_type": "stream",
     "text": [
      "WARNING:absl:Found untraced functions such as _jit_compiled_convolution_op, _jit_compiled_convolution_op, lstm_cell_38_layer_call_fn, lstm_cell_38_layer_call_and_return_conditional_losses, lstm_cell_39_layer_call_fn while saving (showing 5 of 6). These functions will not be directly callable after loading.\n"
     ]
    },
    {
     "name": "stdout",
     "output_type": "stream",
     "text": [
      "INFO:tensorflow:Assets written to: C:\\Users\\stime\\AppData\\Local\\Temp\\tmphf3hhn_o\\assets\n"
     ]
    },
    {
     "name": "stderr",
     "output_type": "stream",
     "text": [
      "INFO:tensorflow:Assets written to: C:\\Users\\stime\\AppData\\Local\\Temp\\tmphf3hhn_o\\assets\n"
     ]
    }
   ],
   "source": [
    "model = tf.keras.models.load_model(model_path)\n",
    "converter = tf.lite.TFLiteConverter.from_keras_model(model)\n",
    "converter.optimizations = [tf.lite.Optimize.DEFAULT]\n",
    "converter.target_spec.supported_ops = [\n",
    "    tf.lite.OpsSet.TFLITE_BUILTINS,\n",
    "    tf.lite.OpsSet.SELECT_TF_OPS\n",
    "]\n",
    "converter.experimental_new_converter = True\n",
    "converter.experimental_lower_tensor_list_ops = False\n",
    "tflite_quant_model = converter.convert()\n",
    "with open(converted_model_path, \"wb\") as f:\n",
    "    f.write(tflite_quant_model)"
   ]
  },
  {
   "cell_type": "code",
   "execution_count": 45,
   "metadata": {},
   "outputs": [
    {
     "name": "stdout",
     "output_type": "stream",
     "text": [
      "Float model in Mb: 11.195030212402344\n",
      "Quantized model in Mb: 0.9608383178710938\n",
      "Compression ratio: 11.65131531932126\n"
     ]
    }
   ],
   "source": [
    "print(\"Float model in Mb:\", os.path.getsize(model_path) / float(2**20))\n",
    "print(\"Quantized model in Mb:\", os.path.getsize(converted_model_path) / float(2**20))\n",
    "print(\"Compression ratio:\", os.path.getsize(model_path)/os.path.getsize(converted_model_path))"
   ]
  },
  {
   "cell_type": "code",
   "execution_count": 3,
   "metadata": {},
   "outputs": [
    {
     "name": "stderr",
     "output_type": "stream",
     "text": [
      "100%|██████████| 10583/10583 [00:13<00:00, 770.37it/s]\n"
     ]
    },
    {
     "name": "stdout",
     "output_type": "stream",
     "text": [
      "Accuracy: 76.43%\n",
      "AUC: 0.9872\n",
      "Recall: 0.7442\n"
     ]
    }
   ],
   "source": [
    "x_test = np.load('data/mfcc_data/x_test.npy')\n",
    "y_test = np.load('data/split_data/y_test.npy')\n",
    "\n",
    "interpreter = tf.lite.Interpreter(model_path=converted_model_path)\n",
    "interpreter.allocate_tensors()\n",
    "\n",
    "input_details = interpreter.get_input_details()\n",
    "output_details = interpreter.get_output_details()\n",
    "\n",
    "input_shape = input_details[0]['shape']\n",
    "\n",
    "acc = 0\n",
    "true_labels = []\n",
    "pred_labels = []\n",
    "pred_probs = []\n",
    "\n",
    "for i in tqdm(range(len(x_test))):\n",
    "    input_data = x_test[i].reshape(input_shape)\n",
    "    interpreter.set_tensor(input_details[0]['index'], input_data)\n",
    "    interpreter.invoke()\n",
    "    output_data = interpreter.get_tensor(output_details[0]['index'])\n",
    "\n",
    "    true_label = np.argmax(y_test[i])\n",
    "    pred_label = np.argmax(output_data)\n",
    "    pred_prob = output_data[0]\n",
    "\n",
    "    true_labels.append(true_label)\n",
    "    pred_labels.append(pred_label)\n",
    "    pred_probs.append(pred_prob)\n",
    "\n",
    "    if pred_label == true_label:\n",
    "        acc += 1\n",
    "\n",
    "acc = acc / len(x_test)\n",
    "print(f'Accuracy: {acc * 100:.2f}%')\n",
    "\n",
    "true_labels = np.array(true_labels)\n",
    "pred_probs = np.array(pred_probs)\n",
    "\n",
    "auc = roc_auc_score(true_labels, pred_probs, multi_class='ovr')\n",
    "print(f'AUC: {auc:.4f}')\n",
    "\n",
    "recall = recall_score(true_labels, pred_labels, average='macro')\n",
    "print(f'Recall: {recall:.4f}')\n"
   ]
  }
 ],
 "metadata": {
  "kernelspec": {
   "display_name": "diploma",
   "language": "python",
   "name": "python3"
  },
  "language_info": {
   "codemirror_mode": {
    "name": "ipython",
    "version": 3
   },
   "file_extension": ".py",
   "mimetype": "text/x-python",
   "name": "python",
   "nbconvert_exporter": "python",
   "pygments_lexer": "ipython3",
   "version": "3.8.19"
  }
 },
 "nbformat": 4,
 "nbformat_minor": 2
}
